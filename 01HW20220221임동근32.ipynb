{
  "nbformat": 4,
  "nbformat_minor": 0,
  "metadata": {
    "colab": {
      "name": "01HW20220221임동근32.ipynb",
      "provenance": [],
      "collapsed_sections": [],
      "authorship_tag": "ABX9TyOSc1dFHfxzUzcCF+A+9/LM",
      "include_colab_link": true
    },
    "kernelspec": {
      "name": "python3",
      "display_name": "Python 3"
    },
    "language_info": {
      "name": "python"
    }
  },
  "cells": [
    {
      "cell_type": "markdown",
      "metadata": {
        "id": "view-in-github",
        "colab_type": "text"
      },
      "source": [
        "<a href=\"https://colab.research.google.com/github/Limdongkeun/python-homework/blob/main/01HW20220221%EC%9E%84%EB%8F%99%EA%B7%BC32.ipynb\" target=\"_parent\"><img src=\"https://colab.research.google.com/assets/colab-badge.svg\" alt=\"Open In Colab\"/></a>"
      ]
    },
    {
      "cell_type": "code",
      "execution_count": null,
      "metadata": {
        "colab": {
          "base_uri": "https://localhost:8080/"
        },
        "id": "HYAZklpWRbJ9",
        "outputId": "57f3ab31-a202-40cf-d4b7-543ad15b3e03"
      },
      "outputs": [
        {
          "output_type": "stream",
          "name": "stdout",
          "text": [
            "Hello world\n"
          ]
        }
      ],
      "source": [
        "#1\n",
        "print('Hello world!')"
      ]
    },
    {
      "cell_type": "code",
      "source": [
        "#2\n",
        "print('Mary\\'s cosmetics')"
      ],
      "metadata": {
        "colab": {
          "base_uri": "https://localhost:8080/"
        },
        "id": "4D8Zf1TRRiQc",
        "outputId": "1ce94fc2-da7b-47cd-ebcb-4a3c089c8926"
      },
      "execution_count": null,
      "outputs": [
        {
          "output_type": "stream",
          "name": "stdout",
          "text": [
            "Mary's cosmetics\n"
          ]
        }
      ]
    },
    {
      "cell_type": "code",
      "source": [
        "#3\n",
        "print('신씨가 소리질렀다. \"도둑이야\".')\n",
        "print('신씨가 소리질렀다. \\\"도둑이야\\\".')"
      ],
      "metadata": {
        "colab": {
          "base_uri": "https://localhost:8080/"
        },
        "id": "ybbxno4cR0Jt",
        "outputId": "5922f3a3-6836-45f4-a6a0-eb604cd5872b"
      },
      "execution_count": null,
      "outputs": [
        {
          "output_type": "stream",
          "name": "stdout",
          "text": [
            "신씨가 소리질렀다. \"도둑이야\".\n",
            "신씨가 소리질렀다. \"도둑이야\".\n"
          ]
        }
      ]
    },
    {
      "cell_type": "code",
      "source": [
        "#4\n",
        "print('\"C:\\Windows\"')"
      ],
      "metadata": {
        "colab": {
          "base_uri": "https://localhost:8080/"
        },
        "id": "M88VI-O8R0HJ",
        "outputId": "3f74ff6b-a742-4713-8b67-3567aa79588e"
      },
      "execution_count": null,
      "outputs": [
        {
          "output_type": "stream",
          "name": "stdout",
          "text": [
            "\"C:\\Windows\"\n"
          ]
        }
      ]
    },
    {
      "cell_type": "code",
      "source": [
        "#5\n",
        "print(\"\\\\n 은 줄바꿈 \\\\t은 간격주기\")"
      ],
      "metadata": {
        "colab": {
          "base_uri": "https://localhost:8080/"
        },
        "id": "E8ukCIQfR0ES",
        "outputId": "3b5f8f61-2192-4a1a-db54-3cdf4cc2a0bb"
      },
      "execution_count": null,
      "outputs": [
        {
          "output_type": "stream",
          "name": "stdout",
          "text": [
            "\\n 은 줄바꿈 \\t은 간격주기\n"
          ]
        }
      ]
    },
    {
      "cell_type": "code",
      "source": [
        "#6\n",
        "print('\"오늘은\",\"일요일\"')"
      ],
      "metadata": {
        "colab": {
          "base_uri": "https://localhost:8080/"
        },
        "id": "wkaUioZuRz8w",
        "outputId": "78719f03-de91-4024-c28b-a7c1c69c8444"
      },
      "execution_count": null,
      "outputs": [
        {
          "output_type": "stream",
          "name": "stdout",
          "text": [
            "\"오늘은\"\"일요일\"\n"
          ]
        }
      ]
    },
    {
      "cell_type": "code",
      "source": [
        "#7\n",
        "print('naver;kakao;sk;samsung')"
      ],
      "metadata": {
        "colab": {
          "base_uri": "https://localhost:8080/"
        },
        "id": "f2CuzSzARzdh",
        "outputId": "f7fd4f14-6334-46b7-f0ee-6ee6394ff0dd"
      },
      "execution_count": null,
      "outputs": [
        {
          "output_type": "stream",
          "name": "stdout",
          "text": [
            "naver;kakao;sk;samsung\n"
          ]
        }
      ]
    },
    {
      "cell_type": "code",
      "source": [
        "#8\n",
        "print('naver/kakao/sk/samsung')"
      ],
      "metadata": {
        "colab": {
          "base_uri": "https://localhost:8080/"
        },
        "id": "0egjTJdPUnJb",
        "outputId": "d9093a05-488c-4b40-a78c-33403109f77a"
      },
      "execution_count": null,
      "outputs": [
        {
          "output_type": "stream",
          "name": "stdout",
          "text": [
            "naver/kakao/sk/samsung\n"
          ]
        }
      ]
    },
    {
      "cell_type": "code",
      "source": [
        "#9\n",
        "print('first',end=',')\n",
        "print('second')"
      ],
      "metadata": {
        "colab": {
          "base_uri": "https://localhost:8080/"
        },
        "id": "Xd3qR09wUnG1",
        "outputId": "84f7a174-a4b1-4704-940c-61b077400087"
      },
      "execution_count": null,
      "outputs": [
        {
          "output_type": "stream",
          "name": "stdout",
          "text": [
            "first,second\n"
          ]
        }
      ]
    },
    {
      "cell_type": "code",
      "source": [
        "#10\n",
        "a = 5\n",
        "b = 3\n",
        "print(a/b)"
      ],
      "metadata": {
        "id": "wJdOlYbjUnD-",
        "colab": {
          "base_uri": "https://localhost:8080/"
        },
        "outputId": "15862797-2734-4280-e2db-fb6ea09d1c09"
      },
      "execution_count": 1,
      "outputs": [
        {
          "output_type": "stream",
          "name": "stdout",
          "text": [
            "1.6666666666666667\n"
          ]
        }
      ]
    },
    {
      "cell_type": "code",
      "source": [
        "#11\n",
        "삼성전자 = 50000\n",
        "print(f'{삼성전자*10}')\n",
        "print(삼성전자*10)"
      ],
      "metadata": {
        "id": "o-EaoYESUm3e",
        "colab": {
          "base_uri": "https://localhost:8080/"
        },
        "outputId": "5f3d5365-0784-48aa-ee27-52e459b8dd52"
      },
      "execution_count": 4,
      "outputs": [
        {
          "output_type": "stream",
          "name": "stdout",
          "text": [
            "500000\n",
            "500000\n"
          ]
        }
      ]
    },
    {
      "cell_type": "code",
      "source": [
        "#12\n",
        "시가총액 = 298\n",
        "현재가 = 50000\n",
        "per = 15.79\n",
        "di1 = {\"시가총액\":298, \"현재가\":50000, \"per\":15.29}\n",
        "print(f'시가총액은 {시가총액}, 현재가는{현재가}, per은{per}')"
      ],
      "metadata": {
        "id": "dPvGMZvvUm03",
        "colab": {
          "base_uri": "https://localhost:8080/"
        },
        "outputId": "93b48c16-9f39-4385-cd35-c32f9175176d"
      },
      "execution_count": 6,
      "outputs": [
        {
          "output_type": "stream",
          "name": "stdout",
          "text": [
            "시가총액은 298, 현재가는50000, per은15.79\n"
          ]
        }
      ]
    },
    {
      "cell_type": "code",
      "source": [
        "#13\n",
        "s = \"hello\"\n",
        "t = \"python\"\n",
        "print(f'{s}! {t}')"
      ],
      "metadata": {
        "id": "jUaAr1huUmx_",
        "colab": {
          "base_uri": "https://localhost:8080/"
        },
        "outputId": "6e5c5191-3608-48f6-e6fd-3e43016b75bb"
      },
      "execution_count": 9,
      "outputs": [
        {
          "output_type": "stream",
          "name": "stdout",
          "text": [
            "hello! python\n"
          ]
        }
      ]
    },
    {
      "cell_type": "code",
      "source": [
        "#14\n",
        "a = 2\n",
        "b = 2 \n",
        "c = 3\n",
        "print(a+b*c)"
      ],
      "metadata": {
        "id": "MhbYpa9MUmvZ",
        "colab": {
          "base_uri": "https://localhost:8080/"
        },
        "outputId": "a04c0a16-74eb-4638-d966-2896691f635f"
      },
      "execution_count": 10,
      "outputs": [
        {
          "output_type": "stream",
          "name": "stdout",
          "text": [
            "8\n"
          ]
        }
      ]
    },
    {
      "cell_type": "code",
      "source": [
        "#15\n",
        "a = \"132\"\n",
        "print(type(a))\n",
        "\n",
        "a = 132\n",
        "print(type(a))"
      ],
      "metadata": {
        "id": "iWUq_JGjUmsh",
        "colab": {
          "base_uri": "https://localhost:8080/"
        },
        "outputId": "c5d4aeaf-7d5c-45e2-d242-a581289f48bb"
      },
      "execution_count": 12,
      "outputs": [
        {
          "output_type": "stream",
          "name": "stdout",
          "text": [
            "<class 'str'>\n",
            "<class 'int'>\n"
          ]
        }
      ]
    },
    {
      "cell_type": "code",
      "source": [
        "#16\n",
        "num = \"720\"\n",
        "print(int(num))\n",
        "print(type(num))"
      ],
      "metadata": {
        "id": "YxpZYLMqUmpq",
        "colab": {
          "base_uri": "https://localhost:8080/"
        },
        "outputId": "08f978fc-5f4b-40e5-a138-8851f46630a4"
      },
      "execution_count": 14,
      "outputs": [
        {
          "output_type": "stream",
          "name": "stdout",
          "text": [
            "720\n",
            "<class 'str'>\n"
          ]
        }
      ]
    },
    {
      "cell_type": "code",
      "source": [
        "#17\n",
        "num = 100\n",
        "print(str(num))\n",
        "print(type(num))"
      ],
      "metadata": {
        "id": "u7tWGPxRUmnW",
        "colab": {
          "base_uri": "https://localhost:8080/"
        },
        "outputId": "492d94f4-7c24-40de-a5d4-179e29fe4cae"
      },
      "execution_count": 17,
      "outputs": [
        {
          "output_type": "stream",
          "name": "stdout",
          "text": [
            "100\n",
            "<class 'int'>\n"
          ]
        }
      ]
    },
    {
      "cell_type": "code",
      "source": [
        "#18\n",
        "num = \"15.79\"\n",
        "print(float(num))"
      ],
      "metadata": {
        "colab": {
          "base_uri": "https://localhost:8080/"
        },
        "id": "7dVmy9bcUXn9",
        "outputId": "3ad4882e-f49d-4dcd-8a1d-ae6b044bb68c"
      },
      "execution_count": 18,
      "outputs": [
        {
          "output_type": "stream",
          "name": "stdout",
          "text": [
            "15.79\n"
          ]
        }
      ]
    },
    {
      "cell_type": "code",
      "source": [
        "#19\n",
        "year = \"2020\"\n",
        "print(f'{int(year)-2},{int(year)-1}, {int(year)}, {int(year)+1}')"
      ],
      "metadata": {
        "colab": {
          "base_uri": "https://localhost:8080/"
        },
        "id": "uRDfvqEsUXkk",
        "outputId": "ebc2b8f4-a719-4194-f10f-d9f855bc537b"
      },
      "execution_count": 22,
      "outputs": [
        {
          "output_type": "stream",
          "name": "stdout",
          "text": [
            "2018,2019, 2020, 2021\n"
          ]
        }
      ]
    },
    {
      "cell_type": "code",
      "source": [
        "#20\n",
        "price = 48584\n",
        "total = price * 36\n",
        "\n",
        "print(format(price,','))\n",
        "print(f'에어컨의 총 금액은{total:,}원이며, 36개월 할부로 결제시 청구 요금은 {price:,}')\n",
        "print(f'에어컨의 금액은 {total}원이며 36개월 할부로 결제시 청구 요금은 {price}입니다')"
      ],
      "metadata": {
        "colab": {
          "base_uri": "https://localhost:8080/"
        },
        "id": "9EH7HtyLUXeV",
        "outputId": "4ffa9468-8505-4dc1-fe26-af5cfd7c16bc"
      },
      "execution_count": 35,
      "outputs": [
        {
          "output_type": "stream",
          "name": "stdout",
          "text": [
            "48,584\n",
            "에어컨의 총 금액은1,749,024원이며, 36개월 할부로 결제시 청구 요금은 48,584\n",
            "에어컨의 금액은 1749024원이며 36개월 할부로 결제시 청구 요금은 48584입니다\n"
          ]
        }
      ]
    }
  ]
}